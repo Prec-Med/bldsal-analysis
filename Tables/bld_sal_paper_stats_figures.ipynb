{
 "cells": [
  {
   "cell_type": "code",
   "execution_count": 1,
   "id": "e198add5-cf86-4623-a220-a98ee94f893d",
   "metadata": {},
   "outputs": [],
   "source": [
    "import os\n",
    "import numpy as np\n",
    "import pandas as pd\n",
    "import altair as alt\n",
    "import docx"
   ]
  },
  {
   "cell_type": "code",
   "execution_count": 2,
   "id": "16d561ae-120b-4925-ae36-3cf0417dd251",
   "metadata": {},
   "outputs": [],
   "source": [
    "pd.options.display.max_rows = 200\n",
    "pd.options.display.max_columns = 50"
   ]
  },
  {
   "cell_type": "code",
   "execution_count": 3,
   "id": "ad53112c-16e1-4c71-83b0-b18357c9370e",
   "metadata": {},
   "outputs": [],
   "source": [
    "# Used for dated output files\n",
    "# working_date=\"260624\"\n",
    "working_date=\"180424\"\n",
    "# Change to git repo outer directory\n",
    "os.chdir(os.path.join(\"..\", \"..\"))"
   ]
  },
  {
   "cell_type": "markdown",
   "id": "c9508e63-b898-4158-96b4-c2890dc2ea67",
   "metadata": {},
   "source": [
    "### Aggregate HsMetrics for CHIP-panel blood/saliva pairs"
   ]
  },
  {
   "cell_type": "code",
   "execution_count": 4,
   "id": "106e500a-a36e-46e8-b60a-1613ad77f906",
   "metadata": {},
   "outputs": [],
   "source": [
    "# Parse hsmetrics files for blood/saliva comparison run\n",
    "runplates = [os.path.join(\"pipeline_outputs\", p) for p in os.listdir(\"pipeline_outputs\") if p.startswith(\"ARCH_run04\")]\n",
    "take3 = lambda x: '_'.join(x.split('_')[:3])  # Helper function to extract run/plate info from directory name\n",
    "hsn = \"multiqc_picard_HsMetrics.txt\"\n",
    "hsmetrics_report_paths = [(take3(y), os.path.join(x, y, hsn)) for x in runplates for y in os.listdir(x) if y.endswith(\"hsmetrics_multiqc_report_data\")]"
   ]
  },
  {
   "cell_type": "code",
   "execution_count": 5,
   "id": "024ffc28-6acd-455e-9b05-dd35f0ed95fc",
   "metadata": {},
   "outputs": [],
   "source": [
    "# Combine all hsmetrics data into df\n",
    "hsmdf = pd.concat([pd.read_csv(p, delimiter='\\t').assign(runplate=n) for n, p in hsmetrics_report_paths]).reset_index(drop=True)\n",
    "# Split and expand run/plate data into dedicated columns\n",
    "hsmdf = hsmdf.join(hsmdf.runplate.str.split('_', expand=True).rename(columns={0: \"project\", 1: \"run\", 2: \"plate\"}))"
   ]
  },
  {
   "cell_type": "markdown",
   "id": "d8fe182d-d331-4bad-abcc-0376b9773376",
   "metadata": {},
   "source": [
    "#### Stratified coverage metrics"
   ]
  },
  {
   "cell_type": "code",
   "execution_count": 6,
   "id": "42e2e544-1206-4103-b879-5bea97492076",
   "metadata": {},
   "outputs": [],
   "source": [
    "# Stratified metrics table\n",
    "# Extract DNA source information from sample dispatch list\n",
    "sourcedf = pd.read_excel(\"CHIP_phase 2_plate_layouts_CHIP samples.xlsx\", sheet_name=\"Dispatchlist\")#\n",
    "sourcemap = sourcedf[sourcedf[\"Collection Type\"].isin({\"ABC_SALIVA\", \"ABC_BLD\"})].set_index(\"Spec ID\")[\"Collection Type\"].to_dict()"
   ]
  },
  {
   "cell_type": "code",
   "execution_count": 7,
   "id": "3a96e070-0c25-4748-afe6-3b517b32ee66",
   "metadata": {},
   "outputs": [],
   "source": [
    "# Add DNA source information to hsmetrics dataframe\n",
    "hsmdf = hsmdf.assign(specid=hsmdf.Sample.str.extract(r\"(BT\\d+)\").fillna(\"CONTROL\"))\n",
    "hsmdf = hsmdf.assign(dna_source=hsmdf.specid.map(sourcemap))"
   ]
  },
  {
   "cell_type": "code",
   "execution_count": 8,
   "id": "222567bb-23ef-4e8f-89de-3006ca95616d",
   "metadata": {},
   "outputs": [],
   "source": [
    "# Adding two strata of pass/fail cutoffs\n",
    "hsmdf = hsmdf.assign(\n",
    "    passfail_80_500=hsmdf[\"PCT_TARGET_BASES_500X\"] > 0.8,\n",
    "    passfail_50_500=hsmdf[\"PCT_TARGET_BASES_500X\"] > 0.5\n",
    ")"
   ]
  },
  {
   "cell_type": "code",
   "execution_count": 9,
   "id": "098e5595-20f2-42ff-b59c-ded1e9b55a2b",
   "metadata": {},
   "outputs": [],
   "source": [
    "def summarise_subgroups_hsmetrics(hsmdf, group_column):\n",
    "    bldstats = hsmdf.query(\"dna_source == 'ABC_BLD'\") \\\n",
    "        .groupby(group_column)[[\"MEAN_TARGET_COVERAGE\"]] \\\n",
    "        .agg([\"count\", \"median\", \"mean\", \"min\", \"max\"]) \\\n",
    "        .droplevel(0, axis=1).assign(dna_source=\"BLD\")\n",
    "    salstats = hsmdf.query(\"dna_source == 'ABC_SALIVA'\") \\\n",
    "        .groupby(group_column)[[\"MEAN_TARGET_COVERAGE\"]] \\\n",
    "        .agg([\"count\", \"median\", \"mean\", \"min\", \"max\"]) \\\n",
    "        .droplevel(0, axis=1).assign(dna_source=\"SALIVA\")\n",
    "    horizonstats = hsmdf[hsmdf.Sample.str.startswith(\"Control_HD829\")] \\\n",
    "        .groupby(group_column)[[\"MEAN_TARGET_COVERAGE\"]] \\\n",
    "        .agg([\"count\", \"median\", \"mean\", \"min\", \"max\"]) \\\n",
    "        .droplevel(0, axis=1).assign(dna_source=\"HORIZON\")\n",
    "    hmwstats =  hsmdf[hsmdf.Sample.str.startswith(\"Control_X4336\")] \\\n",
    "        .groupby(group_column)[[\"MEAN_TARGET_COVERAGE\"]] \\\n",
    "        .agg([\"count\", \"median\", \"mean\", \"min\", \"max\"]) \\\n",
    "        .droplevel(0, axis=1).assign(dna_source=\"HMW\")\n",
    "    allstats = pd.concat([bldstats, salstats, horizonstats, hmwstats]) \\\n",
    "        .assign(criteria=f\"{group_column.split('_')[1]}%_{group_column.split('_')[2]}X\").reset_index() \\\n",
    "        .rename(columns={group_column: \"pass_criteria\"})\n",
    "    return allstats\n",
    "allstats_80_500 = summarise_subgroups_hsmetrics(hsmdf, \"passfail_80_500\")\n",
    "allstats_50_500 = summarise_subgroups_hsmetrics(hsmdf, \"passfail_50_500\")"
   ]
  },
  {
   "cell_type": "code",
   "execution_count": 10,
   "id": "f1b113a2-76d3-4cb8-b9b4-d643cfe45e48",
   "metadata": {},
   "outputs": [],
   "source": [
    "allstats_allthresholds = pd.concat([allstats_80_500, allstats_50_500]).set_index([\"criteria\", \"dna_source\", \"pass_criteria\"])"
   ]
  },
  {
   "cell_type": "code",
   "execution_count": 11,
   "id": "bf4fafee-db53-4f8f-a85b-d2cf0bf5e955",
   "metadata": {},
   "outputs": [],
   "source": [
    "format_depth = lambda x: f\"{round(x, 2)}X\" if isinstance(x, float) else x\n",
    "allstats_formatted = allstats_allthresholds.map(format_depth)"
   ]
  },
  {
   "cell_type": "code",
   "execution_count": 12,
   "id": "a6e511d5-775c-48fe-bfc3-e6f79d2a257d",
   "metadata": {},
   "outputs": [
    {
     "data": {
      "text/html": [
       "<div>\n",
       "<style scoped>\n",
       "    .dataframe tbody tr th:only-of-type {\n",
       "        vertical-align: middle;\n",
       "    }\n",
       "\n",
       "    .dataframe tbody tr th {\n",
       "        vertical-align: top;\n",
       "    }\n",
       "\n",
       "    .dataframe thead th {\n",
       "        text-align: right;\n",
       "    }\n",
       "</style>\n",
       "<table border=\"1\" class=\"dataframe\">\n",
       "  <thead>\n",
       "    <tr style=\"text-align: right;\">\n",
       "      <th></th>\n",
       "      <th></th>\n",
       "      <th></th>\n",
       "      <th>count</th>\n",
       "      <th>median</th>\n",
       "      <th>mean</th>\n",
       "      <th>min</th>\n",
       "      <th>max</th>\n",
       "    </tr>\n",
       "    <tr>\n",
       "      <th>criteria</th>\n",
       "      <th>dna_source</th>\n",
       "      <th>pass_criteria</th>\n",
       "      <th></th>\n",
       "      <th></th>\n",
       "      <th></th>\n",
       "      <th></th>\n",
       "      <th></th>\n",
       "    </tr>\n",
       "  </thead>\n",
       "  <tbody>\n",
       "    <tr>\n",
       "      <th rowspan=\"6\" valign=\"top\">80%_500X</th>\n",
       "      <th rowspan=\"2\" valign=\"top\">BLD</th>\n",
       "      <th>False</th>\n",
       "      <td>1</td>\n",
       "      <td>242.13X</td>\n",
       "      <td>242.13X</td>\n",
       "      <td>242.13X</td>\n",
       "      <td>242.13X</td>\n",
       "    </tr>\n",
       "    <tr>\n",
       "      <th>True</th>\n",
       "      <td>93</td>\n",
       "      <td>1341.83X</td>\n",
       "      <td>1365.04X</td>\n",
       "      <td>892.58X</td>\n",
       "      <td>1909.86X</td>\n",
       "    </tr>\n",
       "    <tr>\n",
       "      <th rowspan=\"2\" valign=\"top\">SALIVA</th>\n",
       "      <th>False</th>\n",
       "      <td>32</td>\n",
       "      <td>741.1X</td>\n",
       "      <td>638.66X</td>\n",
       "      <td>0.48X</td>\n",
       "      <td>974.54X</td>\n",
       "    </tr>\n",
       "    <tr>\n",
       "      <th>True</th>\n",
       "      <td>62</td>\n",
       "      <td>1167.49X</td>\n",
       "      <td>1234.51X</td>\n",
       "      <td>842.97X</td>\n",
       "      <td>2082.23X</td>\n",
       "    </tr>\n",
       "    <tr>\n",
       "      <th>HORIZON</th>\n",
       "      <th>True</th>\n",
       "      <td>2</td>\n",
       "      <td>919.21X</td>\n",
       "      <td>919.21X</td>\n",
       "      <td>885.43X</td>\n",
       "      <td>952.99X</td>\n",
       "    </tr>\n",
       "    <tr>\n",
       "      <th>HMW</th>\n",
       "      <th>True</th>\n",
       "      <td>2</td>\n",
       "      <td>1865.2X</td>\n",
       "      <td>1865.2X</td>\n",
       "      <td>1803.96X</td>\n",
       "      <td>1926.44X</td>\n",
       "    </tr>\n",
       "    <tr>\n",
       "      <th rowspan=\"6\" valign=\"top\">50%_500X</th>\n",
       "      <th rowspan=\"2\" valign=\"top\">BLD</th>\n",
       "      <th>False</th>\n",
       "      <td>1</td>\n",
       "      <td>242.13X</td>\n",
       "      <td>242.13X</td>\n",
       "      <td>242.13X</td>\n",
       "      <td>242.13X</td>\n",
       "    </tr>\n",
       "    <tr>\n",
       "      <th>True</th>\n",
       "      <td>93</td>\n",
       "      <td>1341.83X</td>\n",
       "      <td>1365.04X</td>\n",
       "      <td>892.58X</td>\n",
       "      <td>1909.86X</td>\n",
       "    </tr>\n",
       "    <tr>\n",
       "      <th rowspan=\"2\" valign=\"top\">SALIVA</th>\n",
       "      <th>False</th>\n",
       "      <td>8</td>\n",
       "      <td>176.53X</td>\n",
       "      <td>225.0X</td>\n",
       "      <td>0.48X</td>\n",
       "      <td>478.97X</td>\n",
       "    </tr>\n",
       "    <tr>\n",
       "      <th>True</th>\n",
       "      <td>86</td>\n",
       "      <td>1044.75X</td>\n",
       "      <td>1106.7X</td>\n",
       "      <td>589.74X</td>\n",
       "      <td>2082.23X</td>\n",
       "    </tr>\n",
       "    <tr>\n",
       "      <th>HORIZON</th>\n",
       "      <th>True</th>\n",
       "      <td>2</td>\n",
       "      <td>919.21X</td>\n",
       "      <td>919.21X</td>\n",
       "      <td>885.43X</td>\n",
       "      <td>952.99X</td>\n",
       "    </tr>\n",
       "    <tr>\n",
       "      <th>HMW</th>\n",
       "      <th>True</th>\n",
       "      <td>2</td>\n",
       "      <td>1865.2X</td>\n",
       "      <td>1865.2X</td>\n",
       "      <td>1803.96X</td>\n",
       "      <td>1926.44X</td>\n",
       "    </tr>\n",
       "  </tbody>\n",
       "</table>\n",
       "</div>"
      ],
      "text/plain": [
       "                                   count    median      mean       min  \\\n",
       "criteria dna_source pass_criteria                                        \n",
       "80%_500X BLD        False              1   242.13X   242.13X   242.13X   \n",
       "                    True              93  1341.83X  1365.04X   892.58X   \n",
       "         SALIVA     False             32    741.1X   638.66X     0.48X   \n",
       "                    True              62  1167.49X  1234.51X   842.97X   \n",
       "         HORIZON    True               2   919.21X   919.21X   885.43X   \n",
       "         HMW        True               2   1865.2X   1865.2X  1803.96X   \n",
       "50%_500X BLD        False              1   242.13X   242.13X   242.13X   \n",
       "                    True              93  1341.83X  1365.04X   892.58X   \n",
       "         SALIVA     False              8   176.53X    225.0X     0.48X   \n",
       "                    True              86  1044.75X   1106.7X   589.74X   \n",
       "         HORIZON    True               2   919.21X   919.21X   885.43X   \n",
       "         HMW        True               2   1865.2X   1865.2X  1803.96X   \n",
       "\n",
       "                                        max  \n",
       "criteria dna_source pass_criteria            \n",
       "80%_500X BLD        False           242.13X  \n",
       "                    True           1909.86X  \n",
       "         SALIVA     False           974.54X  \n",
       "                    True           2082.23X  \n",
       "         HORIZON    True            952.99X  \n",
       "         HMW        True           1926.44X  \n",
       "50%_500X BLD        False           242.13X  \n",
       "                    True           1909.86X  \n",
       "         SALIVA     False           478.97X  \n",
       "                    True           2082.23X  \n",
       "         HORIZON    True            952.99X  \n",
       "         HMW        True           1926.44X  "
      ]
     },
     "execution_count": 12,
     "metadata": {},
     "output_type": "execute_result"
    }
   ],
   "source": [
    "allstats_formatted"
   ]
  },
  {
   "cell_type": "code",
   "execution_count": 13,
   "id": "11846c71-edbb-4325-9fed-9e12d68fa085",
   "metadata": {},
   "outputs": [],
   "source": [
    "# Optionally write out hsmetrics stats\n",
    "# allstats_formatted.to_excel(\n",
    "#     os.path.join(\"CHIP-only_blood_saliva_comparisons\", f\"bldsal_tables_hsmetrics_multistrata_{working_date}.xlsx\"),\n",
    "#     engine=\"xlsxwriter\",\n",
    "# )"
   ]
  },
  {
   "cell_type": "code",
   "execution_count": 14,
   "id": "ae2a31f7-68c9-4468-a324-42eff0efef31",
   "metadata": {},
   "outputs": [],
   "source": [
    "# Getting list of fails for exclusion in comparisons\n",
    "passfaildf = hsmdf.assign(specid=hsmdf.Sample.str.extract(r\"(BT\\d+)\"))[[\"specid\", \"passfail_80_500\"]]\n",
    "fail_ids = set(passfaildf[~passfaildf.passfail_80_500].specid)"
   ]
  },
  {
   "cell_type": "markdown",
   "id": "1afd6bde-32dd-41b4-8bdd-05ffe77a1ad5",
   "metadata": {},
   "source": [
    "### Parse long comparison data, exclude pairs with a fail, exclude artefacts, annotate, summarise in table"
   ]
  },
  {
   "cell_type": "code",
   "execution_count": 15,
   "id": "ea6a565b-fe86-4ef7-9ee6-f0e79032a228",
   "metadata": {},
   "outputs": [],
   "source": [
    "chiprange_varstats_path = os.path.join(\"CHIP-only_blood_saliva_comparisons\", \"ARCH_bld_sal_chip_only_180424_CHIP-only_flt-chiprange_bed.csv\")\n",
    "chiprange_allvarstats_path = os.path.join(\"CHIP-only_blood_saliva_comparisons\", \"ARCH_bld_sal_chip_only_180424_CHIP-only_flt-chiprange_bed_allvarstats.csv\")\n",
    "vsdf = pd.read_csv(chiprange_varstats_path)\n",
    "avsdf = pd.read_csv(chiprange_allvarstats_path)"
   ]
  },
  {
   "cell_type": "code",
   "execution_count": 16,
   "id": "e500f5ab-33d3-48ac-8cea-391681e9b737",
   "metadata": {},
   "outputs": [],
   "source": [
    "# Get independent blood/saliva carrier counts for each unique variant (also calculate percentages, count / 94)\n",
    "varcounts_bld = avsdf.query(\"source == 'BLD'\")[[\"varid\", \"comparison_id\"]].groupby(\"varid\").count()\n",
    "varcounts_bld = varcounts_bld.assign(carrier_pct=varcounts_bld.comparison_id / 94)\n",
    "varcounts_sal = avsdf.query(\"source == 'SAL'\")[[\"varid\", \"comparison_id\"]].groupby(\"varid\").count()\n",
    "varcounts_sal = varcounts_sal.assign(carrier_pct=varcounts_sal.comparison_id / 94)"
   ]
  },
  {
   "cell_type": "code",
   "execution_count": 17,
   "id": "8fadf5cf-13c7-4328-baad-7beb569eaba1",
   "metadata": {},
   "outputs": [],
   "source": [
    "# Get sets of artefact variant ids based on threshold for both datasets\n",
    "artefact_threshold = 0.1\n",
    "artefacts_sal = set(varcounts_sal.query(f\"carrier_pct > {artefact_threshold}\").index)\n",
    "artefacts_bld = set(varcounts_bld.query(f\"carrier_pct > {artefact_threshold}\").index)\n",
    "# Remove variants failing artefact threshold\n",
    "avsdf = avsdf[avsdf.varid.isin((artefacts_sal | artefacts_bld))]"
   ]
  },
  {
   "cell_type": "markdown",
   "id": "32e9a9af-d25a-4a4a-94ee-d7516dab977c",
   "metadata": {},
   "source": [
    "### Write out variant data and annotate"
   ]
  },
  {
   "cell_type": "code",
   "execution_count": 18,
   "id": "367f5a7a-0717-4bcc-a7e1-4651151077ef",
   "metadata": {},
   "outputs": [],
   "source": [
    "# Function to write varid field of idf to minimal vcf format for vep annotation\n",
    "def write_minimal_vep_vcf(idf, outputname):\n",
    "    # Split varid into vcf coords\n",
    "    codf = idf[[\"varid\"]].varid.str.split(':', expand=True).rename(columns={0: \"#CHROM\", 1: \"POS\", 2: \"REF\", 3: \"ALT\"})\n",
    "    codf = codf.assign(ID=idf.varid, QUAL='.', FILTER='.', INFO='.', FORMAT='.')\n",
    "    codf = codf[[\"#CHROM\", \"POS\", \"ID\", \"REF\", \"ALT\", \"QUAL\", \"FILTER\", \"INFO\", \"FORMAT\"]]\n",
    "    codf.to_csv(outputname, sep='\\t', index=False)\n",
    "# write_minimal_vep_vcf(avsdf, os.path.join(\"CHIP-only_blood_saliva_comparisons\", f\"bld_sal_ten_genes_chiprange_comparison_allcalls_{working_date}.vcf\"))"
   ]
  },
  {
   "cell_type": "code",
   "execution_count": 19,
   "id": "02e73fac-ee28-4297-8660-849f27b64288",
   "metadata": {},
   "outputs": [],
   "source": [
    "# Run VEP annotation on output VCF here"
   ]
  },
  {
   "cell_type": "code",
   "execution_count": 20,
   "id": "00be5024-fca6-4b85-9647-c84d3bc1b5fb",
   "metadata": {},
   "outputs": [],
   "source": [
    "# Reading annotated output, varid to join on is located in #Uploaded_variation column\n",
    "avsdf_anno = pd.read_csv(\n",
    "    os.path.join(\"CHIP-only_blood_saliva_comparisons\", f\"bld_sal_ten_genes_chiprange_comparison_allcalls_{working_date}.vep.tsv\"),\n",
    "    skiprows=124, sep='\\t'\n",
    ").rename(columns={\"#Uploaded_variation\": \"varid\"}).drop_duplicates()\n",
    "\n",
    "# Add in vcf/BT names before join\n",
    "avsdf = avsdf.merge(vsdf[[\"UPN\", \"BLD_VCF\", \"SAL_VCF\"]], left_on=\"comparison_id\", right_on=\"UPN\", how=\"left\").drop(\"UPN\", axis=1)\n",
    "avsdf_anno_joined = avsdf.join(avsdf_anno.set_index(\"varid\"), on=\"varid\", how=\"left\").sort_values(\"varid\")"
   ]
  },
  {
   "cell_type": "code",
   "execution_count": 21,
   "id": "e7754245-6478-4869-93c1-ae9342d93ee7",
   "metadata": {},
   "outputs": [],
   "source": [
    "# Getting list of fail UPNs to filter comparison stats df\n",
    "crvdf = vsdf.copy(deep=True)\n",
    "crvdf = crvdf.assign(\n",
    "    bld_specid=crvdf.BLD_VCF.str.extract(r\"(BT\\d+)\"),\n",
    "    sal_specid=crvdf.SAL_VCF.str.extract(r\"(BT\\d+)\"),\n",
    ")\n",
    "fail_upns = set(crvdf[(crvdf.bld_specid.isin(fail_ids) | crvdf.sal_specid.isin(fail_ids))].UPN)"
   ]
  },
  {
   "cell_type": "code",
   "execution_count": 22,
   "id": "64c0d903-6c9b-4a35-9aac-4a86aef01258",
   "metadata": {},
   "outputs": [],
   "source": [
    "# Creating comparison stats df from variant info\n",
    "cstatsdf = avsdf_anno_joined[[\"comparison_id\", \"varid\", \"source\"]].assign(value=1) \\\n",
    "    .pivot(index=[\"comparison_id\", \"varid\"], values=\"value\", columns=\"source\").fillna(0).reset_index()\n",
    "# Removing UPNs with >= 1 fail in the pair\n",
    "cstatsdf = cstatsdf[~cstatsdf.comparison_id.isin(fail_upns)]\n",
    "cstatsdf = cstatsdf.assign(BLD_SAL=cstatsdf.BLD + cstatsdf.SAL)\n",
    "# Converting concordance to counts by sample pair\n",
    "cstatsdf = cstatsdf.assign(\n",
    "    BLD_only=((cstatsdf.BLD_SAL == 1.0) & (cstatsdf.BLD == 1.0)).astype(int),\n",
    "    SAL_only=((cstatsdf.BLD_SAL == 1.0) & (cstatsdf.SAL == 1.0)).astype(int),\n",
    "    BLD_SAL=(cstatsdf.BLD_SAL == 2.0).astype(int),\n",
    ").drop(columns=[\"BLD\", \"SAL\", \"varid\"])\n",
    "cstatsdf = cstatsdf.groupby(\"comparison_id\").sum().reset_index()"
   ]
  },
  {
   "cell_type": "code",
   "execution_count": 23,
   "id": "badb3956-4ecc-43a8-95f4-f3d49003ee30",
   "metadata": {},
   "outputs": [],
   "source": [
    "# Add percentages\n",
    "cstatsdf = cstatsdf.assign(\n",
    "    total_vars=(cstatsdf.BLD_SAL + cstatsdf.BLD_only + cstatsdf.SAL_only),\n",
    "    pct_BLD_SAL=cstatsdf.BLD_SAL / (cstatsdf.BLD_SAL + cstatsdf.BLD_only + cstatsdf.SAL_only),\n",
    "    pct_BLD_only=cstatsdf.BLD_only / (cstatsdf.BLD_SAL + cstatsdf.BLD_only + cstatsdf.SAL_only),\n",
    "    pct_SAL_only=cstatsdf.SAL_only / (cstatsdf.BLD_SAL + cstatsdf.BLD_only + cstatsdf.SAL_only),\n",
    ")"
   ]
  },
  {
   "cell_type": "code",
   "execution_count": 24,
   "id": "8ae2d6db-d7d7-4906-8913-f092b1295c38",
   "metadata": {},
   "outputs": [],
   "source": [
    "# Add obfuscated pair ID for tables\n",
    "cstatsdf = cstatsdf.sort_values(\"pct_BLD_SAL\", ascending=False).assign(pair_id=[f\"P{n+1:02d}\" for n in range(len(cstatsdf))])\n",
    "# Order columns for output\n",
    "conc_tbldf = cstatsdf[[\"pair_id\", \"total_vars\", \"BLD_only\", \"SAL_only\", \"BLD_SAL\", \"pct_BLD_only\", \"pct_SAL_only\", \"pct_BLD_SAL\"]]"
   ]
  },
  {
   "cell_type": "code",
   "execution_count": 25,
   "id": "0c0628d8-7f5e-47c9-bcac-213f7f69b8b3",
   "metadata": {},
   "outputs": [],
   "source": [
    "# Write out concordance table\n",
    "# conc_tbldf.to_csv(os.path.join(\"CHIP-only_blood_saliva_comparisons\", f\"bldsal_concordance_table_{working_date}.csv\"), index=False)"
   ]
  }
 ],
 "metadata": {
  "kernelspec": {
   "display_name": "Python 3 (ipykernel)",
   "language": "python",
   "name": "python3"
  },
  "language_info": {
   "codemirror_mode": {
    "name": "ipython",
    "version": 3
   },
   "file_extension": ".py",
   "mimetype": "text/x-python",
   "name": "python",
   "nbconvert_exporter": "python",
   "pygments_lexer": "ipython3",
   "version": "3.10.13"
  }
 },
 "nbformat": 4,
 "nbformat_minor": 5
}
